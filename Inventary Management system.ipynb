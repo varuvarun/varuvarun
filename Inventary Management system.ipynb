{
 "cells": [
  {
   "cell_type": "code",
   "execution_count": 1,
   "id": "c9241fb8",
   "metadata": {},
   "outputs": [],
   "source": [
    "import json\n",
    "fd=open(\"mylist.json\",'w')"
   ]
  },
  {
   "cell_type": "code",
   "execution_count": 2,
   "id": "0e6f4f5c",
   "metadata": {},
   "outputs": [],
   "source": [
    "\n",
    "\n",
    "store={100:{\"product\":\"bingo tede mede\",\"price\":5,\"quantity\":100,\"mfgmonth\":\"november\",\"expyear\":2022},\n",
    "      101:{\"product\":\"kitkat\",\"price\":10,\"quantity\":150,\"mfgmonth\":\"january\",\"expyear\":2022},\n",
    "      102:{\"product\":\"gooday\",\"price\":10,\"quantity\":60,\"mfgmonth\":\"january\",\"expyear\":2024},\n",
    "      103:{\"product\":\"teju kabab powder\",\"price\":10,\"quantity\":150,\"mfgmonth\":\"feb\",\"expyear\":2024},\n",
    "      104:{\"product\":\"timepass chips\",\"price\":5,\"quantity\":56,\"mfgmonth\":\"febrauary\",\"expyear\":2026},\n",
    "      105:{\"product\":\"surf excel\",\"price\":25,\"quantity\":100,\"mfgmonth\":\"june\",\"expyear\":2025},\n",
    "      106:{\"product\":\"dettol\",\"price\":27,\"quantity\":72,\"mfgmonth\":\"june\",\"expyear\":2028},\n",
    "      107:{\"product\":\"medimix\",\"price\":29,\"quantity\":60,\"mfgmonth\":\"august\",\"expyear\":2026},\n",
    "      108:{\"product\":\"active wheel\",\"price\":35,\"quantity\":40,\"mfgmonth\":\"january\",\"expyear\":2030},\n",
    "      109:{\"product\":\"7 up\",\"price\":40,\"quantity\":200,\"mfgmonth\":\"january\",\"expyear\":2022},\n",
    "      110:{\"product\":\"mirinda\",\"price\":42,\"quantity\":20,\"mfgmonth\":\"march\",\"expyear\":2022},\n",
    "      111:{\"product\":\"fish  masala\",\"price\":10,\"quantity\":100,\"mfgmonth\":\"june\",\"expyear\":2025},\n",
    "      112:{\"product\":\"corriander powder\",\"price\":10,\"quantity\":90,\"mfgmonth\":\"november\",\"expyear\":2025},\n",
    "      113:{\"product\":\"5 star\",\"price\":25,\"quantity\":76,\"mfgmonth\":\"april\",\"expyear\":2024},\n",
    "      114:{\"product\":\"lever ayush\",\"price\":32,\"quantity\":30,\"mfgmonth\":\"january\",\"expyear\":2026},\n",
    "      115:{\"product\":\"head and shoulder\",\"price\":60,\"quantity\":120,\"mfgmonth\":\"march\",\"expyear\":2025},\n",
    "      116:{\"product\":\"ginger garlic paste\",\"price\":15,\"quantity\":40,\"mfgmonth\":\"december\",\"expyear\":2022},\n",
    "      117:{\"product\":\"park avenue perfume\",\"price\":90,\"quantity\":30,\"mfgmonth\":\"july\",\"expyear\":2026},\n",
    "      118:{\"product\":\"potato chips\",\"price\":10,\"quantity\":140,\"mfgmonth\":\"august\",\"expyear\":2024},\n",
    "      119:{\"product\":\"Bingo mad angles\",\"price\":20,\"quantity\":36,\"mfgmonth\":\"june\",\"expyear\":2024},\n",
    "      120:{\"product\":\"sunsilk\",\"price\":1,\"quantity\":400,\"mfgmonth\":\"january\",\"expyear\":2029},\n",
    "      121:{\"product\":\"fair and lovely\",\"price\":30,\"quantity\":300,\"mfgmonth\":\"september\",\"expyear\":2030},\n",
    "      122:{\"product\":\"karthika shampoo\",\"price\":2,\"quantity\":345,\"mfgmonth\":\"\",\"expyear\":2026},\n",
    "      123:{\"product\":\"pocket perfume\",\"price\":123,\"quantity\":30,\"mfgmonth\":\"june\",\"expyear\":2030},\n",
    "      124:{\"product\":\"dairy milk silk\",\"price\":2,\"quantity\":140,\"mfgmonth\":\"january\",\"expyear\":2022},\n",
    "      125:{\"product\":\"alpenlibe\",\"price\":5,\"quantity\":200,\"mfgmonth\":\"march\",\"expyear\":2022},\n",
    "      126:{\"product\":\"domex\",\"price\":34,\"quantity\":40,\"mfgmonth\":\"febrauary\",\"expyear\":2024},\n",
    "      127:{\"product\":\"floor cleaner\",\"price\":45,\"quantity\":10,\"mfgmonth\":\"march19\",\"expyear\":2025},\n",
    "      128:{\"product\":\"paperboat\",\"price\":90,\"quantity\":60,\"mfgmonth\":\"december19\",\"expyear\":2023},\n",
    "      129:{\"product\":\"pepsi\",\"price\":10,\"quantity\":24,\"mfgmonth\":\"march19\",\"expyear\":2024},\n",
    "      130:{\"product\":\"freedom refined oil\",\"price\":150,\"quantity\":45,\"mfgmonth\":\"november19\",\"expyear\":2025},\n",
    "      131:{\"product\":\"almomd oil\",\"price\":150,\"quantity\":50,\"mfgmonth\":\"november19\",\"expyear\":2025},\n",
    "      132:{\"product\":\"almond\",\"price\":150,\"quantity\":45,\"mfgmonth\":\"november19\",\"expyear\":2025},\n",
    "      133:{\"product\":\"sugar\",\"price\":150,\"quantity\":45,\"mfgmonth\":\"november19\",\"expyear\":2025},}\n",
    "js=json.dumps(store)\n",
    "\n",
    "\n",
    "\n",
    "\n",
    "\n",
    "\n"
   ]
  },
  {
   "cell_type": "code",
   "execution_count": 3,
   "id": "ab809e54",
   "metadata": {},
   "outputs": [
    {
     "data": {
      "text/plain": [
       "'{\"100\": {\"product\": \"bingo tede mede\", \"price\": 5, \"quantity\": 100, \"mfgmonth\": \"november\", \"expyear\": 2022}, \"101\": {\"product\": \"kitkat\", \"price\": 10, \"quantity\": 150, \"mfgmonth\": \"january\", \"expyear\": 2022}, \"102\": {\"product\": \"gooday\", \"price\": 10, \"quantity\": 60, \"mfgmonth\": \"january\", \"expyear\": 2024}, \"103\": {\"product\": \"teju kabab powder\", \"price\": 10, \"quantity\": 150, \"mfgmonth\": \"feb\", \"expyear\": 2024}, \"104\": {\"product\": \"timepass chips\", \"price\": 5, \"quantity\": 56, \"mfgmonth\": \"febrauary\", \"expyear\": 2026}, \"105\": {\"product\": \"surf excel\", \"price\": 25, \"quantity\": 100, \"mfgmonth\": \"june\", \"expyear\": 2025}, \"106\": {\"product\": \"dettol\", \"price\": 27, \"quantity\": 72, \"mfgmonth\": \"june\", \"expyear\": 2028}, \"107\": {\"product\": \"medimix\", \"price\": 29, \"quantity\": 60, \"mfgmonth\": \"august\", \"expyear\": 2026}, \"108\": {\"product\": \"active wheel\", \"price\": 35, \"quantity\": 40, \"mfgmonth\": \"january\", \"expyear\": 2030}, \"109\": {\"product\": \"7 up\", \"price\": 40, \"quantity\": 200, \"mfgmonth\": \"january\", \"expyear\": 2022}, \"110\": {\"product\": \"mirinda\", \"price\": 42, \"quantity\": 20, \"mfgmonth\": \"march\", \"expyear\": 2022}, \"111\": {\"product\": \"fish  masala\", \"price\": 10, \"quantity\": 100, \"mfgmonth\": \"june\", \"expyear\": 2025}, \"112\": {\"product\": \"corriander powder\", \"price\": 10, \"quantity\": 90, \"mfgmonth\": \"november\", \"expyear\": 2025}, \"113\": {\"product\": \"5 star\", \"price\": 25, \"quantity\": 76, \"mfgmonth\": \"april\", \"expyear\": 2024}, \"114\": {\"product\": \"lever ayush\", \"price\": 32, \"quantity\": 30, \"mfgmonth\": \"january\", \"expyear\": 2026}, \"115\": {\"product\": \"head and shoulder\", \"price\": 60, \"quantity\": 120, \"mfgmonth\": \"march\", \"expyear\": 2025}, \"116\": {\"product\": \"ginger garlic paste\", \"price\": 15, \"quantity\": 40, \"mfgmonth\": \"december\", \"expyear\": 2022}, \"117\": {\"product\": \"park avenue perfume\", \"price\": 90, \"quantity\": 30, \"mfgmonth\": \"july\", \"expyear\": 2026}, \"118\": {\"product\": \"potato chips\", \"price\": 10, \"quantity\": 140, \"mfgmonth\": \"august\", \"expyear\": 2024}, \"119\": {\"product\": \"Bingo mad angles\", \"price\": 20, \"quantity\": 36, \"mfgmonth\": \"june\", \"expyear\": 2024}, \"120\": {\"product\": \"sunsilk\", \"price\": 1, \"quantity\": 400, \"mfgmonth\": \"january\", \"expyear\": 2029}, \"121\": {\"product\": \"fair and lovely\", \"price\": 30, \"quantity\": 300, \"mfgmonth\": \"september\", \"expyear\": 2030}, \"122\": {\"product\": \"karthika shampoo\", \"price\": 2, \"quantity\": 345, \"mfgmonth\": \"\", \"expyear\": 2026}, \"123\": {\"product\": \"pocket perfume\", \"price\": 123, \"quantity\": 30, \"mfgmonth\": \"june\", \"expyear\": 2030}, \"124\": {\"product\": \"dairy milk silk\", \"price\": 2, \"quantity\": 140, \"mfgmonth\": \"january\", \"expyear\": 2022}, \"125\": {\"product\": \"alpenlibe\", \"price\": 5, \"quantity\": 200, \"mfgmonth\": \"march\", \"expyear\": 2022}, \"126\": {\"product\": \"domex\", \"price\": 34, \"quantity\": 40, \"mfgmonth\": \"febrauary\", \"expyear\": 2024}, \"127\": {\"product\": \"floor cleaner\", \"price\": 45, \"quantity\": 10, \"mfgmonth\": \"march19\", \"expyear\": 2025}, \"128\": {\"product\": \"paperboat\", \"price\": 90, \"quantity\": 60, \"mfgmonth\": \"december19\", \"expyear\": 2023}, \"129\": {\"product\": \"pepsi\", \"price\": 10, \"quantity\": 24, \"mfgmonth\": \"march19\", \"expyear\": 2024}, \"130\": {\"product\": \"freedom refined oil\", \"price\": 150, \"quantity\": 45, \"mfgmonth\": \"november19\", \"expyear\": 2025}, \"131\": {\"product\": \"almomd oil\", \"price\": 150, \"quantity\": 50, \"mfgmonth\": \"november19\", \"expyear\": 2025}, \"132\": {\"product\": \"almond\", \"price\": 150, \"quantity\": 45, \"mfgmonth\": \"november19\", \"expyear\": 2025}, \"133\": {\"product\": \"sugar\", \"price\": 150, \"quantity\": 45, \"mfgmonth\": \"november19\", \"expyear\": 2025}}'"
      ]
     },
     "execution_count": 3,
     "metadata": {},
     "output_type": "execute_result"
    }
   ],
   "source": [
    "\n",
    "js"
   ]
  },
  {
   "cell_type": "code",
   "execution_count": 4,
   "id": "675c4af2",
   "metadata": {},
   "outputs": [
    {
     "data": {
      "text/plain": [
       "3540"
      ]
     },
     "execution_count": 4,
     "metadata": {},
     "output_type": "execute_result"
    }
   ],
   "source": [
    "fd.write(js)"
   ]
  },
  {
   "cell_type": "code",
   "execution_count": 5,
   "id": "027d1be6",
   "metadata": {},
   "outputs": [],
   "source": [
    "fd.close()"
   ]
  },
  {
   "cell_type": "code",
   "execution_count": 6,
   "id": "c17dc5bc",
   "metadata": {},
   "outputs": [
    {
     "name": "stdout",
     "output_type": "stream",
     "text": [
      "enter the number of quantites:4\n",
      "enter the product id:102\n",
      "enter the quantity of your product:50\n",
      "enter the product id:131\n",
      "enter the quantity of your product:42\n",
      "enter the product id:121\n",
      "enter the quantity of your product:20\n",
      "enter the product id:112\n",
      "enter the quantity of your product:25\n"
     ]
    },
    {
     "data": {
      "text/plain": [
       "22"
      ]
     },
     "execution_count": 6,
     "metadata": {},
     "output_type": "execute_result"
    }
   ],
   "source": [
    "doc=open(\"cart.txt\",'w')\n",
    "quant=int(input(\"enter the number of quantites:\"))\n",
    "fd=open(\"mylist.json\",\"r\")\n",
    "rd=fd.read()\n",
    "invoice=json.loads(rd)\n",
    "buy=\"\\n you just bought item/s \\t\"\n",
    "bill=0\n",
    "for i in range(quant):\n",
    "    pro_id=(input(\"enter the product id:\"))\n",
    "    vol=int(input(\"enter the quantity of your product:\"))\n",
    "    if vol<invoice[pro_id][\"quantity\"]:\n",
    "        invoice[pro_id][\"quantity\"]=invoice[pro_id][\"quantity\"]-vol\n",
    "        bill+=vol*invoice[pro_id][\"price\"]\n",
    "    doc.write(\"you just bought {} of {} product name {} and expiery year{}\\n\".format(str(vol) , str(pro_id) , str(invoice[pro_id][\"product\"]) , str(invoice[pro_id][\"expyear\"])))\n",
    "doc.write(\"\\n Your total bill {}\".format(str(bill)))"
   ]
  },
  {
   "cell_type": "code",
   "execution_count": null,
   "id": "01591a4b",
   "metadata": {},
   "outputs": [],
   "source": []
  },
  {
   "cell_type": "code",
   "execution_count": null,
   "id": "197a5c59",
   "metadata": {},
   "outputs": [],
   "source": []
  },
  {
   "cell_type": "code",
   "execution_count": null,
   "id": "7bcef5df",
   "metadata": {},
   "outputs": [],
   "source": []
  },
  {
   "cell_type": "code",
   "execution_count": null,
   "id": "a2b9106f",
   "metadata": {},
   "outputs": [],
   "source": []
  }
 ],
 "metadata": {
  "kernelspec": {
   "display_name": "Python 3",
   "language": "python",
   "name": "python3"
  },
  "language_info": {
   "codemirror_mode": {
    "name": "ipython",
    "version": 3
   },
   "file_extension": ".py",
   "mimetype": "text/x-python",
   "name": "python",
   "nbconvert_exporter": "python",
   "pygments_lexer": "ipython3",
   "version": "3.8.8"
  }
 },
 "nbformat": 4,
 "nbformat_minor": 5
}
